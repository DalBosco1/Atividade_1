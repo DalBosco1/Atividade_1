{
 "cells": [
  {
   "cell_type": "markdown",
   "metadata": {
    "id": "cXC4WikDkE8r"
   },
   "source": [
    "### **Atividade com Nota**\n",
    "Link de envio:\n",
    "https://forms.gle/rEGR8vXj365VcV628"
   ]
  },
  {
   "cell_type": "markdown",
   "metadata": {},
   "source": [
    "# Arthur Giusti Dal Bosco \n"
   ]
  },
  {
   "cell_type": "markdown",
   "metadata": {
    "id": "e9QTLDi29NKd"
   },
   "source": [
    "#### Exercício 1: Análise de Dados de Vendas\n",
    "\n",
    "- Você recebeu os dados de vendas de uma loja durante um mês;\n",
    "- Eles estão organizados em uma lista de tuplas, onde cada tupla contém o **nome do produto**, a **quantidade vendida** e o **valor total da venda**. Você deve realizar uma análise utilizando listas, compreensão de listas, `itertools`, dicionários e conjuntos.\n",
    "\n",
    "#### Dados fornecidos:\n",
    "```python\n",
    "vendas = [\n",
    "    ('Camiseta', 10, 200),\n",
    "    ('Calça', 5, 250),\n",
    "    ('Jaqueta', 2, 300),\n",
    "    ('Camiseta', 7, 140),\n",
    "    ('Calça', 3, 150),\n",
    "    ('Boné', 4, 80),\n",
    "    ('Jaqueta', 1, 150),\n",
    "    ('Camiseta', 8, 160),\n",
    "    ('Boné', 3, 60),\n",
    "]\n",
    "```\n",
    "\n"
   ]
  },
  {
   "cell_type": "markdown",
   "metadata": {},
   "source": [
    "#### Tarefas:\n"
   ]
  },
  {
   "cell_type": "markdown",
   "metadata": {},
   "source": [
    "\n",
    "1. **Listas e Compreensão de Listas**:\n",
    "   - Crie uma nova lista contendo apenas os produtos únicos vendidos (sem repetições). Use uma compreensão de lista e um conjunto (`set`) para garantir que não haja duplicatas.\n",
    "\n"
   ]
  },
  {
   "cell_type": "code",
   "execution_count": 45,
   "metadata": {},
   "outputs": [],
   "source": [
    "vendas = [\n",
    "    ('Camiseta', 10, 200),\n",
    "    ('Calça', 5, 250),\n",
    "    ('Jaqueta', 2, 300),\n",
    "    ('Camiseta', 7, 140),\n",
    "    ('Calça', 3, 150),\n",
    "    ('Boné', 4, 80),\n",
    "    ('Jaqueta', 1, 150),\n",
    "    ('Camiseta', 8, 160),\n",
    "    ('Boné', 3, 60),\n",
    "]\n",
    "\n",
    "from itertools import groupby\n"
   ]
  },
  {
   "cell_type": "code",
   "execution_count": 46,
   "metadata": {},
   "outputs": [
    {
     "name": "stdout",
     "output_type": "stream",
     "text": [
      "['Camiseta', 'Calça', 'Jaqueta', 'Boné']\n"
     ]
    }
   ],
   "source": [
    "lista_produtos =list({i for i, _, _ in vendas})\n",
    "print(lista_produtos)"
   ]
  },
  {
   "cell_type": "markdown",
   "metadata": {},
   "source": [
    "\n",
    "2. **itertools**:\n",
    "   - Use `itertools` para agrupar as vendas por produto e somar a quantidade total vendida para cada produto.\n",
    "\n"
   ]
  },
  {
   "cell_type": "code",
   "execution_count": 50,
   "metadata": {},
   "outputs": [
    {
     "name": "stdout",
     "output_type": "stream",
     "text": [
      "[('Boné', 7), ('Calça', 8), ('Camiseta', 25), ('Jaqueta', 3)]\n"
     ]
    }
   ],
   "source": [
    "vendas.sort(key=lambda x: x[0])\n",
    "\n",
    "qtd_vendida = [\n",
    "    (produto, sum(qtd for _, qtd, _ in grupo))\n",
    "    for produto, grupo in groupby(vendas, key=lambda x: x[0])\n",
    "] \n",
    "'''''  \n",
    "qtd_vendida = [\n",
    "    (produto, sum(qtd for i, qtd, _ in vendas if i == produto))\n",
    "    for produto in lista_produtos\n",
    "]\n",
    "'''\n",
    "print(qtd_vendida)"
   ]
  },
  {
   "cell_type": "markdown",
   "metadata": {},
   "source": [
    "3. **Dicionários**:\n",
    "   - Crie um dicionário onde as chaves são os produtos e os valores são listas que contêm a quantidade total vendida e o valor total de vendas de cada produto.\n"
   ]
  },
  {
   "cell_type": "code",
   "execution_count": 51,
   "metadata": {},
   "outputs": [
    {
     "name": "stdout",
     "output_type": "stream",
     "text": [
      "{'Camiseta': [25, 500], 'Calça': [8, 400], 'Jaqueta': [3, 450], 'Boné': [7, 140]}\n"
     ]
    }
   ],
   "source": [
    "vendas_dic = {\n",
    "    produto:[\n",
    "        sum(qtd for i, qtd, _ in vendas if i == produto),\n",
    "        sum(valor for i, _, valor in vendas if i == produto)\n",
    "    ]\n",
    "    for produto in lista_produtos\n",
    "}\n",
    "\n",
    "print(vendas_dic)"
   ]
  },
  {
   "cell_type": "markdown",
   "metadata": {},
   "source": [
    "\n",
    "4. **Conjuntos**:\n",
    "   - Crie dois conjuntos: um contendo os produtos vendidos com mais de 20 unidades e outro contendo os produtos que geraram um valor total de vendas superior a 500.\n"
   ]
  },
  {
   "cell_type": "code",
   "execution_count": 29,
   "metadata": {},
   "outputs": [
    {
     "name": "stdout",
     "output_type": "stream",
     "text": [
      "Produtos vendidos com mais de 20 unidades: {'Camiseta'}\n",
      "Produtos com valor total de vendas acima de 500: {'Camiseta'}\n"
     ]
    }
   ],
   "source": [
    "prod_mais_20_und = {produto for produto, (qtd_total, _) in vendas_dic.items() if qtd_total >= 20}\n",
    "prod_acima_500_brl = {produto for produto, (_, valor_total) in vendas_dic.items() if valor_total >= 500}\n",
    "\n",
    "print(\"Produtos vendidos com mais de 20 unidades:\", prod_mais_20_und)\n",
    "print(\"Produtos com valor total de vendas acima de 500:\", prod_acima_500_brl )\n"
   ]
  },
  {
   "cell_type": "markdown",
   "metadata": {
    "id": "IyWvWpmJ9wEJ"
   },
   "source": [
    "#### Exemplo de Saída Esperada:"
   ]
  },
  {
   "cell_type": "code",
   "execution_count": 40,
   "metadata": {
    "id": "hJSSRdZ19rcl"
   },
   "outputs": [],
   "source": [
    "# Produtos únicos vendidos\n",
    "#['Camiseta', 'Calça', 'Jaqueta', 'Boné']\n",
    "\n",
    "# Quantidade total vendida por produto\n",
    "#{'Camiseta': 25, 'Calça': 8, 'Jaqueta': 3, 'Boné': 7}\n",
    "\n",
    "# Dicionário com quantidade e valor total de vendas por produto\n",
    "#{'Camiseta': [25, 500], 'Calça': [8, 400], 'Jaqueta': [3, 450], 'Boné': [7, 140]}\n",
    "\n",
    "# Conjuntos de produtos com mais de 20 unidades vendidas e mais de 500 em vendas totais\n",
    "#Produtos com mais de 20 unidades vendidas: {'Camiseta'}\n",
    "#Produtos com mais de 500 em vendas totais: {'Camiseta', 'Jaqueta'}"
   ]
  },
  {
   "cell_type": "markdown",
   "metadata": {
    "id": "61JcTLEujIVM"
   },
   "source": [
    "### Exercício 2: Análise de Dados de Alunos\n",
    "\n",
    "Você tem uma lista com registros de alunos, onde cada registro contém o nome do aluno, a disciplina e a nota final que ele obteve. Você precisa processar esses dados para extrair informações específicas e responder a algumas perguntas sobre o desempenho dos alunos.\n",
    "\n"
   ]
  },
  {
   "cell_type": "code",
   "execution_count": null,
   "metadata": {
    "id": "zXcxd76pkGJV"
   },
   "outputs": [],
   "source": [
    "\n",
    "alunos = [\n",
    "    ('Alice', 'Matemática', 85),\n",
    "    ('Bob', 'História', 78),\n",
    "    ('Alice', 'História', 95),\n",
    "    ('Bob', 'Matemática', 82),\n",
    "    ('Carlos', 'Matemática', 70),\n",
    "    ('Carlos', 'História', 65),\n",
    "    ('Alice', 'Física', 90),\n",
    "    ('Bob', 'Física', 85),\n",
    "    ('Carlos', 'Física', 75),\n",
    "    ('Diana', 'Matemática', 88),\n",
    "    ('Diana', 'História', 92),\n",
    "    ('Diana', 'Física', 95),\n",
    "]"
   ]
  },
  {
   "cell_type": "markdown",
   "metadata": {
    "id": "NH1nPS5hkGkT"
   },
   "source": [
    "#### Tarefas:\n",
    "\n",
    "1. **Listas e Compreensão de Listas**:\n",
    "   - Crie uma lista de todas as disciplinas disponíveis (sem duplicação), usando uma compreensão de lista e um conjunto para garantir que não haja repetições.\n"
   ]
  },
  {
   "cell_type": "code",
   "execution_count": 32,
   "metadata": {},
   "outputs": [
    {
     "data": {
      "text/plain": [
       "['Matemática', 'História', 'Física']"
      ]
     },
     "execution_count": 32,
     "metadata": {},
     "output_type": "execute_result"
    }
   ],
   "source": [
    "disciplinas = list({disciplina for _,disciplina, _ in alunos })\n",
    "\n",
    "disciplinas"
   ]
  },
  {
   "cell_type": "markdown",
   "metadata": {},
   "source": [
    "\n",
    "2. **Agrupamento de Notas por Aluno**:\n",
    "   - Crie um dicionário onde as chaves são os nomes dos alunos e os valores são listas com as notas. Em seguida, calcule a média das notas para cada aluno.\n",
    "\n"
   ]
  },
  {
   "cell_type": "code",
   "execution_count": 33,
   "metadata": {},
   "outputs": [
    {
     "data": {
      "text/plain": [
       "{'Alice': [85, 95, 90],\n",
       " 'Bob': [78, 82, 85],\n",
       " 'Carlos': [70, 65, 75],\n",
       " 'Diana': [88, 92, 95]}"
      ]
     },
     "execution_count": 33,
     "metadata": {},
     "output_type": "execute_result"
    }
   ],
   "source": [
    "notas_alunos = {\n",
    "    aluno: \n",
    "        [nota for nome , _, nota in alunos if nome == aluno]\n",
    "        for aluno, _, _ in alunos \n",
    "        }\n",
    "\n",
    "notas_alunos"
   ]
  },
  {
   "cell_type": "markdown",
   "metadata": {},
   "source": [
    "3. **Dicionários**:\n",
    "   - Crie um dicionário que armazene as notas de cada aluno para cada disciplina. As chaves devem ser os nomes dos alunos, e os valores devem ser dicionários onde as chaves são as disciplinas e os valores são as notas.\n"
   ]
  },
  {
   "cell_type": "code",
   "execution_count": 34,
   "metadata": {},
   "outputs": [
    {
     "data": {
      "text/plain": [
       "{'Alice': {'Matemática': 85, 'História': 95, 'Física': 90},\n",
       " 'Bob': {'História': 78, 'Matemática': 82, 'Física': 85},\n",
       " 'Carlos': {'Matemática': 70, 'História': 65, 'Física': 75},\n",
       " 'Diana': {'Matemática': 88, 'História': 92, 'Física': 95}}"
      ]
     },
     "execution_count": 34,
     "metadata": {},
     "output_type": "execute_result"
    }
   ],
   "source": [
    "notas_det = {aluno: {disciplina: nota for _, disciplina, nota in alunos if _ == aluno} for aluno, _, _ in alunos}\n",
    "\n",
    "notas_det\n"
   ]
  },
  {
   "cell_type": "markdown",
   "metadata": {},
   "source": [
    "\n",
    "4. **Conjuntos**:\n",
    "   - Crie dois conjuntos:\n",
    "     - Um contendo os nomes dos alunos que têm uma média superior a 80.\n",
    "     - Outro contendo os nomes dos alunos que obtiveram nota superior a 90 em pelo menos uma disciplina.\n",
    "\n"
   ]
  },
  {
   "cell_type": "code",
   "execution_count": null,
   "metadata": {},
   "outputs": [
    {
     "name": "stdout",
     "output_type": "stream",
     "text": [
      "Alunos com média superior a 80: {'Diana', 'Bob', 'Alice'}\n",
      "Alunos com nota superior a 90: {'Diana', 'Alice'}\n"
     ]
    }
   ],
   "source": [
    "medias_por_aluno = {aluno: sum(notas) / len(notas) for aluno, notas in notas_alunos.items()}\n",
    "\n",
    "alunos_media_maior_80 = {aluno for aluno, media in medias_por_aluno.items() if media > 80}\n",
    "\n",
    "\n",
    "alunos_nota_acima_90 = {aluno for aluno, notas in notas_alunos.items() if any(nota > 90 for nota in notas)}\n",
    "\n",
    "print(\"Alunos com media superior a 80:\", alunos_media_maior_80)\n",
    "print(\"Alunos com nota superior a 90:\", alunos_nota_acima_90)\n"
   ]
  },
  {
   "cell_type": "code",
   "execution_count": 36,
   "metadata": {
    "id": "0QJJNHmpji77"
   },
   "outputs": [],
   "source": [
    "#### Exemplo de Saída Esperada:\n",
    "# Disciplinas disponíveis:\n",
    "#['Matemática', 'História', 'Física']\n",
    "# Média de notas por aluno:\n",
    "#{'Alice': 90.0, 'Bob': 81.67, 'Carlos': 70.0, 'Diana': 91.67}\n",
    "# Notas de cada aluno por disciplina:\n",
    "#{'Alice': {'Matemática': 85, 'História': 95, 'Física': 90}, 'Bob': {'História': 78, 'Matemática': 82, 'Física': 85}, 'Carlos': {'Matemática': 70, 'História': 65, 'Física': 75}, 'Diana': {'Matemática': 88, 'História': 92, 'Física': 95}}\n",
    "# Alunos com média superior a 80:\n",
    "#{'Alice', 'Bob', 'Diana'}\n",
    "# Alunos com nota superior a 90 em pelo menos uma disciplina:\n",
    "#{'Alice', 'Diana'}"
   ]
  }
 ],
 "metadata": {
  "colab": {
   "provenance": []
  },
  "kernelspec": {
   "display_name": "aaa",
   "language": "python",
   "name": "python3"
  },
  "language_info": {
   "codemirror_mode": {
    "name": "ipython",
    "version": 3
   },
   "file_extension": ".py",
   "mimetype": "text/x-python",
   "name": "python",
   "nbconvert_exporter": "python",
   "pygments_lexer": "ipython3",
   "version": "3.6.13"
  }
 },
 "nbformat": 4,
 "nbformat_minor": 0
}
